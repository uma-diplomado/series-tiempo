{
 "cells": [
  {
   "cell_type": "markdown",
   "metadata": {},
   "source": [
    "# Estadística"
   ]
  },
  {
   "cell_type": "code",
   "execution_count": 1,
   "metadata": {},
   "outputs": [],
   "source": [
    "import numpy as np\n",
    "import matplotlib.pyplot as plt\n",
    "from scipy.stats import beta\n",
    "from ipywidgets import interact, IntSlider"
   ]
  },
  {
   "cell_type": "code",
   "execution_count": 2,
   "metadata": {},
   "outputs": [],
   "source": [
    "%config InlineBackend.figure_format = \"retina\""
   ]
  },
  {
   "cell_type": "markdown",
   "metadata": {},
   "source": [
    "$$\n",
    "    \\text{Beta}(\\mu\\vert\\alpha,\\beta) = \\frac{\\Gamma(\\alpha + \\beta)}{\\Gamma(\\alpha)\\Gamma(\\beta)} \\mu^{\\alpha - 1} (1 - \\mu)^{1 - \\beta}\n",
    "$$"
   ]
  },
  {
   "cell_type": "code",
   "execution_count": 3,
   "metadata": {},
   "outputs": [
    {
     "data": {
      "application/vnd.jupyter.widget-view+json": {
       "model_id": "a79e0c0aacaf4e3d9bd9c50b7746abd0",
       "version_major": 2,
       "version_minor": 0
      },
      "text/plain": [
       "interactive(children=(IntSlider(value=1, description='a', max=15, min=1), IntSlider(value=1, description='b', …"
      ]
     },
     "metadata": {},
     "output_type": "display_data"
    }
   ],
   "source": [
    "@interact(a=IntSlider(min=1, max=15, value=1),\n",
    "          b=IntSlider(min=1, max=15, value=1))\n",
    "def graph_beta(a, b):\n",
    "    xrange = np.linspace(0, 1, 100)\n",
    "    b = beta(a=a, b=b)\n",
    "    plt.plot(xrange, b.pdf(xrange))"
   ]
  }
 ],
 "metadata": {
  "kernelspec": {
   "display_name": "Python 3",
   "language": "python",
   "name": "python3"
  },
  "language_info": {
   "codemirror_mode": {
    "name": "ipython",
    "version": 3
   },
   "file_extension": ".py",
   "mimetype": "text/x-python",
   "name": "python",
   "nbconvert_exporter": "python",
   "pygments_lexer": "ipython3",
   "version": "3.7.6"
  },
  "widgets": {
   "application/vnd.jupyter.widget-state+json": {
    "state": {
     "11db61b5e1d847d791f564ceccf7f5f7": {
      "model_module": "@jupyter-widgets/controls",
      "model_module_version": "1.5.0",
      "model_name": "SliderStyleModel",
      "state": {
       "description_width": ""
      }
     },
     "2679f1887f974f378b074fb791c39251": {
      "model_module": "@jupyter-widgets/base",
      "model_module_version": "1.2.0",
      "model_name": "LayoutModel",
      "state": {}
     },
     "4b796f8723b5460cbe599bc573b72adb": {
      "model_module": "@jupyter-widgets/base",
      "model_module_version": "1.2.0",
      "model_name": "LayoutModel",
      "state": {}
     },
     "66e15418b4e34ea7898ce6e49d0c6339": {
      "model_module": "@jupyter-widgets/controls",
      "model_module_version": "1.5.0",
      "model_name": "IntSliderModel",
      "state": {
       "description": "b",
       "layout": "IPY_MODEL_2679f1887f974f378b074fb791c39251",
       "max": 15,
       "min": 1,
       "style": "IPY_MODEL_11db61b5e1d847d791f564ceccf7f5f7",
       "value": 1
      }
     },
     "835a2a1e9b9a4b359c12ebd98e2cae47": {
      "model_module": "@jupyter-widgets/controls",
      "model_module_version": "1.5.0",
      "model_name": "SliderStyleModel",
      "state": {
       "description_width": ""
      }
     },
     "9bb73c510efb4b8aa4d083390c3a3050": {
      "model_module": "@jupyter-widgets/output",
      "model_module_version": "1.0.0",
      "model_name": "OutputModel",
      "state": {
       "layout": "IPY_MODEL_abc75c7b292f413f9822060cdb83e3dd",
       "outputs": [
        {
         "data": {
          "image/png": "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\n",
          "text/plain": "<Figure size 432x288 with 1 Axes>"
         },
         "metadata": {
          "image/png": {
           "height": 248,
           "width": 378
          },
          "needs_background": "light"
         },
         "output_type": "display_data"
        }
       ]
      }
     },
     "a79e0c0aacaf4e3d9bd9c50b7746abd0": {
      "model_module": "@jupyter-widgets/controls",
      "model_module_version": "1.5.0",
      "model_name": "VBoxModel",
      "state": {
       "_dom_classes": [
        "widget-interact"
       ],
       "children": [
        "IPY_MODEL_cd8909db749e452fb98d488525022443",
        "IPY_MODEL_66e15418b4e34ea7898ce6e49d0c6339",
        "IPY_MODEL_9bb73c510efb4b8aa4d083390c3a3050"
       ],
       "layout": "IPY_MODEL_f4c0e1702dd24a3583058d680ad1d60d"
      }
     },
     "abc75c7b292f413f9822060cdb83e3dd": {
      "model_module": "@jupyter-widgets/base",
      "model_module_version": "1.2.0",
      "model_name": "LayoutModel",
      "state": {}
     },
     "cd8909db749e452fb98d488525022443": {
      "model_module": "@jupyter-widgets/controls",
      "model_module_version": "1.5.0",
      "model_name": "IntSliderModel",
      "state": {
       "description": "a",
       "layout": "IPY_MODEL_4b796f8723b5460cbe599bc573b72adb",
       "max": 15,
       "min": 1,
       "style": "IPY_MODEL_835a2a1e9b9a4b359c12ebd98e2cae47",
       "value": 1
      }
     },
     "f4c0e1702dd24a3583058d680ad1d60d": {
      "model_module": "@jupyter-widgets/base",
      "model_module_version": "1.2.0",
      "model_name": "LayoutModel",
      "state": {}
     }
    },
    "version_major": 2,
    "version_minor": 0
   }
  }
 },
 "nbformat": 4,
 "nbformat_minor": 4
}
